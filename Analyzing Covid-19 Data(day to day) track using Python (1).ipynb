{
 "cells": [
  {
   "cell_type": "markdown",
   "metadata": {},
   "source": [
    "# Analyzing Covid-19 Data(day to day) track using Python\n"
   ]
  },
  {
   "cell_type": "code",
   "execution_count": null,
   "metadata": {},
   "outputs": [],
   "source": [
    "#importing necessary libraries\n",
    "from datetime import datetime \n",
    "import pandas as pd\n",
    "pd.set_option('display.max_columns', None)\n",
    "import numpy as np\n",
    "import geopandas as gpd\n",
    "import contextily as ctx\n",
    "import matplotlib.pyplot as plt\n",
    "import seaborn as sns\n",
    "import plotly.express as px\n",
    "import plotly.graph_objs as go\n",
    "import warnings\n",
    "warnings.filterwarnings(\"ignore\")\n"
   ]
  },
  {
   "cell_type": "markdown",
   "metadata": {},
   "source": [
    "## Reading Data"
   ]
  },
  {
   "cell_type": "code",
   "execution_count": null,
   "metadata": {},
   "outputs": [],
   "source": [
    "df=pd.read_csv('final_input2.csv')"
   ]
  },
  {
   "cell_type": "code",
   "execution_count": null,
   "metadata": {},
   "outputs": [],
   "source": [
    "df.head()"
   ]
  },
  {
   "cell_type": "code",
   "execution_count": null,
   "metadata": {},
   "outputs": [],
   "source": [
    "#droping unwanted columns\n",
    "df1=df.drop(['Unnamed: 7','Unnamed: 8','Unnamed: 9','Unnamed: 10'], axis = 1)"
   ]
  },
  {
   "cell_type": "code",
   "execution_count": null,
   "metadata": {},
   "outputs": [],
   "source": [
    "df1.head()"
   ]
  },
  {
   "cell_type": "code",
   "execution_count": null,
   "metadata": {},
   "outputs": [],
   "source": [
    "df1.shape"
   ]
  },
  {
   "cell_type": "code",
   "execution_count": null,
   "metadata": {},
   "outputs": [],
   "source": [
    "df1.describe()"
   ]
  },
  {
   "cell_type": "code",
   "execution_count": null,
   "metadata": {},
   "outputs": [],
   "source": [
    "df1.info()"
   ]
  },
  {
   "cell_type": "code",
   "execution_count": null,
   "metadata": {},
   "outputs": [],
   "source": [
    "df[\"Date\"].max(), df[\"Date\"].min()"
   ]
  },
  {
   "cell_type": "markdown",
   "metadata": {},
   "source": [
    "### Geodataframe"
   ]
  },
  {
   "cell_type": "code",
   "execution_count": null,
   "metadata": {},
   "outputs": [],
   "source": [
    "#The co-orinate reference system value is obtained from http://epsg.io\n",
    "crs=\"EPSG:4326\""
   ]
  },
  {
   "cell_type": "code",
   "execution_count": null,
   "metadata": {},
   "outputs": [],
   "source": [
    "gdf = gpd.GeoDataFrame(df1, crs=crs, geometry=gpd.points_from_xy(df1.Longitude, df.Latitude))\n",
    "gdf.head()"
   ]
  },
  {
   "cell_type": "code",
   "execution_count": null,
   "metadata": {},
   "outputs": [],
   "source": [
    "gdf.plot(figsize=(12,10))"
   ]
  },
  {
   "cell_type": "markdown",
   "metadata": {},
   "source": [
    "# Plotting Maps"
   ]
  },
  {
   "cell_type": "code",
   "execution_count": null,
   "metadata": {},
   "outputs": [],
   "source": [
    "ctx.providers.keys()"
   ]
  },
  {
   "cell_type": "code",
   "execution_count": null,
   "metadata": {},
   "outputs": [],
   "source": [
    "ctx.providers.Esri.keys()"
   ]
  },
  {
   "cell_type": "code",
   "execution_count": null,
   "metadata": {},
   "outputs": [],
   "source": [
    "fig, ax = plt.subplots(figsize=(14, 12))\n",
    "gdf[gdf[\"Date\"] == '2020-03-30'].to_crs(epsg=3857).plot(ax=ax, color=\"red\", edgecolor=\"white\")\n",
    "ctx.add_basemap(ax, source=ctx.providers.Stamen.TonerLite) \n",
    "plt.title(\"Deceased Map -  2020-03-30\", fontsize=30, fontname=\"Palatino Linotype\", color=\"grey\")\n",
    "ax.axis(\"off\")\n",
    "plt.show()"
   ]
  },
  {
   "cell_type": "markdown",
   "metadata": {},
   "source": [
    "# Bubble Maps"
   ]
  },
  {
   "cell_type": "code",
   "execution_count": null,
   "metadata": {},
   "outputs": [],
   "source": [
    "fig, ax = plt.subplots(figsize=(14, 12))\n",
    "gdf[gdf[\"Date\"] == '2020-03-30'].to_crs(epsg=3857).plot(ax=ax, color=\"red\", alpha=.4,  markersize=\"Deaths\")\n",
    "ctx.add_basemap(ax, source=ctx.providers.Stamen.TonerLite) \n",
    "plt.title(\"Deceased Bubble Map - 2020-03-30\", fontsize=30, fontname=\"Palatino Linotype\", color=\"grey\")\n",
    "ax.axis(\"off\")\n",
    "plt.show()"
   ]
  },
  {
   "cell_type": "code",
   "execution_count": null,
   "metadata": {},
   "outputs": [],
   "source": [
    "#calculating Normalized mean Death\n",
    "gdf[\"Normalized_mean_death\"]=((gdf[\"Deaths\"]-gdf['Deaths'].min())/(gdf[\"Deaths\"].max()-gdf[\"Deaths\"].min()))*100"
   ]
  },
  {
   "cell_type": "code",
   "execution_count": null,
   "metadata": {},
   "outputs": [],
   "source": [
    "gdf.tail()"
   ]
  },
  {
   "cell_type": "code",
   "execution_count": null,
   "metadata": {},
   "outputs": [],
   "source": [
    "fig, ax = plt.subplots(figsize=(14, 12))\n",
    "gdf[gdf[\"Date\"] == '2021-01-01'].to_crs(epsg=3857).plot(ax=ax, color=\"red\", alpha=.7,  markersize=\"Normalized_mean_death\")\n",
    "ctx.add_basemap(ax, source=ctx.providers.Stamen.TonerLite) \n",
    "plt.title(\" Covid-19 -  2021-01-01 \", fontsize=30, fontname=\"Palatino Linotype\", color=\"grey\")\n",
    "#ax.axis(\"off\")\n",
    "plt.show()"
   ]
  },
  {
   "cell_type": "markdown",
   "metadata": {},
   "source": [
    "# Day to Day Covid-19 Track\n"
   ]
  },
  {
   "cell_type": "code",
   "execution_count": null,
   "metadata": {},
   "outputs": [],
   "source": [
    "formated_gdf = df1.groupby(['Date', 'Country'])['Confirmed', 'Deaths'].max()\n",
    "formated_gdf = formated_gdf.reset_index()\n",
    "formated_gdf['Date'] = pd.to_datetime(formated_gdf['Date'])\n",
    "formated_gdf['Date'] = formated_gdf['Date'].dt.strftime('%m/%d/%Y')\n",
    "formated_gdf['size'] = formated_gdf['Confirmed'].pow(0.3)\n",
    "\n",
    "fig = px.scatter_geo(formated_gdf, locations=\"Country\", locationmode='country names', \n",
    "                     color=\"Confirmed\", size='size', hover_name=\"Country\",\n",
    "                     range_color= [0, max(formated_gdf['Confirmed'])+2], animation_frame=\"Date\", \n",
    "                     title='Spread over time')\n",
    "fig.update(layout_coloraxis_showscale=False)\n",
    "fig.show()"
   ]
  },
  {
   "cell_type": "code",
   "execution_count": null,
   "metadata": {},
   "outputs": [],
   "source": [
    "formated_gdf = df1.groupby(['Date', 'Country'])['Confirmed', 'Deaths'].max()\n",
    "formated_gdf = formated_gdf.reset_index()\n",
    "formated_gdf['Date'] = pd.to_datetime(formated_gdf['Date'])\n",
    "formated_gdf['Date'] = formated_gdf['Date'].dt.strftime('%m/%d/%Y')\n",
    "formated_gdf['size'] = formated_gdf['Deaths'].pow(0.3)\n",
    "\n",
    "fig = px.scatter_geo(formated_gdf, locations=\"Country\", locationmode='country names', \n",
    "                     color=\"Deaths\", size='size', hover_name=\"Country\",\n",
    "                     range_color= [0, max(formated_gdf['Deaths'])+2], animation_frame=\"Date\", \n",
    "                     title='Deaths over time')\n",
    "fig.update(layout_coloraxis_showscale=False)\n",
    "fig.show()"
   ]
  },
  {
   "cell_type": "markdown",
   "metadata": {},
   "source": [
    "# Covid vaccines used by country worldwide"
   ]
  },
  {
   "cell_type": "markdown",
   "metadata": {},
   "source": [
    "## Reading and Preparing Data"
   ]
  },
  {
   "cell_type": "code",
   "execution_count": null,
   "metadata": {},
   "outputs": [],
   "source": [
    "manu = pd.read_csv(\"country_vaccinations_by_manufacturer.csv\")\n",
    "manu['date'] = pd.to_datetime(manu.date)\n",
    "\n",
    "country = pd.read_csv(\"country_vaccinations.csv\")\n",
    "country['date'] = pd.to_datetime(country.date)"
   ]
  },
  {
   "cell_type": "code",
   "execution_count": null,
   "metadata": {},
   "outputs": [],
   "source": [
    "manu.head()"
   ]
  },
  {
   "cell_type": "code",
   "execution_count": null,
   "metadata": {},
   "outputs": [],
   "source": [
    "manu.location.unique()"
   ]
  },
  {
   "cell_type": "code",
   "execution_count": null,
   "metadata": {},
   "outputs": [],
   "source": [
    "#temporarily set max max_colwidth to None\n",
    "pd.set_option('display.max_colwidth', None)\n",
    "country[['country', 'date', 'vaccines']].head()"
   ]
  },
  {
   "cell_type": "code",
   "execution_count": null,
   "metadata": {},
   "outputs": [],
   "source": [
    "#Now, I want to keep the best-known vaccins (Pfizer, Moderna, AstraZeneca and Johnson&Johnson) as they are and group lesser-known brands into the countries where they are made.\n",
    "\n",
    "#strip text\n",
    "country['vaccines'] = country['vaccines'].str.replace(\"/Beijing|/Wuhan|/HayatVax|/BioNTech|Oxford/\", \"\", regex=True)\n",
    "\n",
    "#replace with Chinese vaccins\n",
    "country['vaccines'] = country['vaccines'].str.replace(\"Sinopharm|BBIBP-CorV|Sinovac|CanSino|RBD-Dimer\", \"Chinese\", regex=True)\n",
    "\n",
    "#replace with Russian vaccins\n",
    "country['vaccines'] = country['vaccines'].str.replace(\"EpiVacCorona|Sputnik V\", \"Russian\", regex=True)\n",
    "\n",
    "#replace with Cuban vaccins\n",
    "country['vaccines'] = country['vaccines'].str.replace(\"Soberana02|Abdala\", \"Cuban\", regex=True)\n",
    "\n",
    "#replace some others\n",
    "to_replace = {'Covaxin': 'Indian',\n",
    "              'QazVac': 'Kazachstan'}\n",
    "country['vaccines'] = country['vaccines'].replace(to_replace, regex=True)"
   ]
  },
  {
   "cell_type": "code",
   "execution_count": null,
   "metadata": {},
   "outputs": [],
   "source": [
    "#making a list of all vaccins\n",
    "vac_list = [x.split(\", \") for x in country.vaccines.values]\n",
    "vaccines = [item for elem in vac_list for item in elem]\n",
    "vaccines = set(vaccines)\n",
    "vaccines = list(vaccines)\n",
    "vaccines"
   ]
  },
  {
   "cell_type": "code",
   "execution_count": null,
   "metadata": {},
   "outputs": [],
   "source": [
    "#Now, I want to add a column with True/False for each vaccine, and only keep the row with the most recent information for each country.\n",
    "#adding a column with True/False for each vaccine\n",
    "for vaccin in vaccines:\n",
    "    country[vaccin] = np.where(country['vaccines'].str.contains(vaccin), True, False)\n",
    "\n",
    "country = country.sort_values(by = ['country', 'date'], ascending = [True, False])\n",
    "country_latest = country.drop_duplicates(subset = \"country\", keep = \"first\")\n",
    "\n",
    "#head of selected columns only\n",
    "country_latest.iloc[:, np.r_[0,12, 15:len(country_latest.columns)]].head()"
   ]
  },
  {
   "cell_type": "markdown",
   "metadata": {},
   "source": [
    "# Choropleth Maps"
   ]
  },
  {
   "cell_type": "markdown",
   "metadata": {},
   "source": [
    "## Worldwide usage maps by vaccine"
   ]
  },
  {
   "cell_type": "code",
   "execution_count": null,
   "metadata": {},
   "outputs": [],
   "source": [
    "def plot_vaccin(color, vaccin):\n",
    "    fig = px.choropleth(country_latest, locations=\"iso_code\",\n",
    "                        color=vaccin,\n",
    "                        hover_name=\"country\",\n",
    "                        color_discrete_map={True: color, False: 'lightgrey'})\n",
    "\n",
    "    layout = go.Layout(\n",
    "        title=go.layout.Title(\n",
    "            text= f\"<b>Countries using {vaccin} vaccin</b>\",\n",
    "            x=0.5\n",
    "        ),\n",
    "        showlegend=False,\n",
    "        font=dict(size=14),\n",
    "        width = 750,\n",
    "        height = 350,\n",
    "        margin=dict(l=0,r=0,b=0,t=30)\n",
    "    )\n",
    "\n",
    "    fig.update_layout(layout)\n",
    "\n",
    "    fig.show()"
   ]
  },
  {
   "cell_type": "code",
   "execution_count": null,
   "metadata": {},
   "outputs": [],
   "source": [
    "plot_vaccin('red', 'Pfizer')"
   ]
  },
  {
   "cell_type": "code",
   "execution_count": null,
   "metadata": {},
   "outputs": [],
   "source": [
    "plot_vaccin('green', \"Moderna\")"
   ]
  },
  {
   "cell_type": "code",
   "execution_count": null,
   "metadata": {},
   "outputs": [],
   "source": [
    "plot_vaccin('brown', \"AstraZeneca\")"
   ]
  },
  {
   "cell_type": "code",
   "execution_count": null,
   "metadata": {},
   "outputs": [],
   "source": [
    "plot_vaccin('orange', \"Johnson&Johnson\")"
   ]
  },
  {
   "cell_type": "code",
   "execution_count": null,
   "metadata": {},
   "outputs": [],
   "source": [
    "plot_vaccin('blue', \"Chinese\")"
   ]
  },
  {
   "cell_type": "code",
   "execution_count": null,
   "metadata": {},
   "outputs": [],
   "source": [
    "plot_vaccin('yellow', \"Russian\")"
   ]
  },
  {
   "cell_type": "code",
   "execution_count": null,
   "metadata": {},
   "outputs": [],
   "source": [
    "plot_vaccin('magenta', \"Indian\")"
   ]
  },
  {
   "cell_type": "code",
   "execution_count": null,
   "metadata": {},
   "outputs": [],
   "source": [
    "plot_vaccin('goldenrod', \"Cuban\")"
   ]
  },
  {
   "cell_type": "code",
   "execution_count": null,
   "metadata": {},
   "outputs": [],
   "source": [
    "plot_vaccin('darkblue', \"Kazachstan\")"
   ]
  },
  {
   "cell_type": "markdown",
   "metadata": {},
   "source": [
    "# Worldwide map plotting the number of vaccines used by country"
   ]
  },
  {
   "cell_type": "code",
   "execution_count": null,
   "metadata": {},
   "outputs": [],
   "source": [
    "#As you can see, many countries use only one or two different vaccines.\n",
    "country_latest['Vaccins_used']= country_latest.iloc[:, -9:].sum(axis=1)\n",
    "country_latest.Vaccins_used.value_counts()"
   ]
  },
  {
   "cell_type": "code",
   "execution_count": null,
   "metadata": {},
   "outputs": [],
   "source": [
    "fig = px.choropleth(country_latest, locations=\"iso_code\",\n",
    "                    color='Vaccins_used',\n",
    "                    hover_data= [\"country\", \"vaccines\"])\n",
    "\n",
    "layout = go.Layout(\n",
    "    title=go.layout.Title(\n",
    "        text= f\"<b>Number of different vaccines used by country</b>\",\n",
    "        x=0.5\n",
    "    ),\n",
    "    font=dict(size=14),\n",
    "    width = 750,\n",
    "    height = 350,\n",
    "    margin=dict(l=0,r=0,b=0,t=30)\n",
    ")\n",
    "\n",
    "fig.update_layout(layout)\n",
    "\n",
    "fig.show()"
   ]
  },
  {
   "cell_type": "code",
   "execution_count": null,
   "metadata": {},
   "outputs": [],
   "source": [
    "cd"
   ]
  },
  {
   "cell_type": "code",
   "execution_count": null,
   "metadata": {},
   "outputs": [],
   "source": []
  }
 ],
 "metadata": {
  "kernelspec": {
   "display_name": "Python 3",
   "language": "python",
   "name": "python3"
  },
  "language_info": {
   "codemirror_mode": {
    "name": "ipython",
    "version": 3
   },
   "file_extension": ".py",
   "mimetype": "text/x-python",
   "name": "python",
   "nbconvert_exporter": "python",
   "pygments_lexer": "ipython3",
   "version": "3.8.5"
  }
 },
 "nbformat": 4,
 "nbformat_minor": 5
}
