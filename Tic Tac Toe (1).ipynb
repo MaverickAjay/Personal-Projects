{
 "cells": [
  {
   "cell_type": "code",
   "execution_count": 1,
   "metadata": {},
   "outputs": [],
   "source": [
    "#display board\n",
    "from IPython.display import clear_output\n",
    "def display_board(board):\n",
    "    clear_output()\n",
    "    print(board[7]+'|'+board[8]+'|'+board[9] )\n",
    "    print(\"_____\")\n",
    "    print(board[4]+'|'+board[5]+'|'+board[6] )\n",
    "    print(\"_____\")\n",
    "    print(board[1]+'|'+board[2]+'|'+board[3] )\n",
    "   \n",
    "    "
   ]
  },
  {
   "cell_type": "code",
   "execution_count": 2,
   "metadata": {},
   "outputs": [],
   "source": [
    "board=['#','X','O','X','O','X','O','X','O','X']\n",
    "display_board(board)\n"
   ]
  },
  {
   "cell_type": "code",
   "execution_count": 3,
   "metadata": {},
   "outputs": [],
   "source": [
    "def player_input():\n",
    "    marker = ''\n",
    "    \n",
    "    while not (marker == 'X' or marker == 'O'):\n",
    "        marker = input('Player 1: Do you want to be X or O? ').upper()\n",
    "\n",
    "    if marker == 'X':\n",
    "        return ('X', 'O')\n",
    "    else:\n",
    "        return ('O', 'X')"
   ]
  },
  {
   "cell_type": "code",
   "execution_count": 4,
   "metadata": {},
   "outputs": [
    {
     "name": "stdout",
     "output_type": "stream",
     "text": [
      "Player 1: Do you want to be X or O? x\n"
     ]
    },
    {
     "data": {
      "text/plain": [
       "('X', 'O')"
      ]
     },
     "execution_count": 4,
     "metadata": {},
     "output_type": "execute_result"
    }
   ],
   "source": [
    "player_input()"
   ]
  },
  {
   "cell_type": "code",
   "execution_count": 22,
   "metadata": {},
   "outputs": [],
   "source": [
    "#place_marker\n",
    "def place_marker(board,marker,position):\n",
    "    board[position]=marker\n",
    "    "
   ]
  },
  {
   "cell_type": "code",
   "execution_count": 23,
   "metadata": {},
   "outputs": [
    {
     "name": "stdout",
     "output_type": "stream",
     "text": [
      "||\n",
      "_____\n",
      "||*\n",
      "_____\n",
      "||\n"
     ]
    }
   ],
   "source": [
    "place_marker(board,\"*\",6)\n",
    "display_board(board)"
   ]
  },
  {
   "cell_type": "code",
   "execution_count": 24,
   "metadata": {},
   "outputs": [],
   "source": [
    "#checking_win\n",
    "def win_check(board,marker):\n",
    "    \n",
    "    return((board[1]==board[2]==board[3]==marker)or\n",
    "    (board[4]==board[5]==board[6]==marker)or\n",
    "    (board[7]==board[8]==board[9]==marker)or\n",
    "    (board[1]==board[4]==board[7]==marker)or\n",
    "    (board[2]==board[5]==board[8]==marker)or\n",
    "    (board[3]==board[6]==board[9]==marker)or\n",
    "    (board[1]==board[5]==board[9]==marker)or\n",
    "    (board[7]==board[5]==board[3]==marker))\n",
    "    "
   ]
  },
  {
   "cell_type": "code",
   "execution_count": 25,
   "metadata": {},
   "outputs": [
    {
     "name": "stdout",
     "output_type": "stream",
     "text": [
      "||\n",
      "_____\n",
      "||*\n",
      "_____\n",
      "||\n"
     ]
    },
    {
     "data": {
      "text/plain": [
       "False"
      ]
     },
     "execution_count": 25,
     "metadata": {},
     "output_type": "execute_result"
    }
   ],
   "source": [
    "display_board(board)\n",
    "win_check(board,'O')"
   ]
  },
  {
   "cell_type": "code",
   "execution_count": 26,
   "metadata": {},
   "outputs": [],
   "source": [
    "#choose_first\n",
    "import random\n",
    "def choose_first():\n",
    "    flip=random.randint(0,1)\n",
    "    if flip==0:\n",
    "        return 'P1'\n",
    "    else:\n",
    "        return \"P2\""
   ]
  },
  {
   "cell_type": "code",
   "execution_count": 27,
   "metadata": {},
   "outputs": [
    {
     "data": {
      "text/plain": [
       "'P2'"
      ]
     },
     "execution_count": 27,
     "metadata": {},
     "output_type": "execute_result"
    }
   ],
   "source": [
    "choose_first()"
   ]
  },
  {
   "cell_type": "code",
   "execution_count": 28,
   "metadata": {},
   "outputs": [],
   "source": [
    "#space_check\n",
    "def space_check(board,position):\n",
    "    return board[position]==''"
   ]
  },
  {
   "cell_type": "code",
   "execution_count": 29,
   "metadata": {},
   "outputs": [
    {
     "data": {
      "text/plain": [
       "True"
      ]
     },
     "execution_count": 29,
     "metadata": {},
     "output_type": "execute_result"
    }
   ],
   "source": [
    "space_check(board,3)"
   ]
  },
  {
   "cell_type": "code",
   "execution_count": 30,
   "metadata": {},
   "outputs": [],
   "source": [
    "#full_boardcheck\n",
    "def full_board_check(board):\n",
    "    for i in range(1,10):\n",
    "        if space_check(board,i):\n",
    "            return False\n",
    "    return True\n",
    "        \n",
    "  "
   ]
  },
  {
   "cell_type": "code",
   "execution_count": 31,
   "metadata": {},
   "outputs": [
    {
     "data": {
      "text/plain": [
       "False"
      ]
     },
     "execution_count": 31,
     "metadata": {},
     "output_type": "execute_result"
    }
   ],
   "source": [
    "full_board_check(board)"
   ]
  },
  {
   "cell_type": "code",
   "execution_count": 32,
   "metadata": {},
   "outputs": [],
   "source": [
    "#player-choice\n",
    "def player_choice(board):\n",
    "    position=0\n",
    "    while position not in [1,2,3,4,5,6,7,8,9] or not space_check(board,position):\n",
    "        position=int(input(\"Please enter a nos 1-9:\"))\n",
    "    return position\n",
    "    "
   ]
  },
  {
   "cell_type": "code",
   "execution_count": null,
   "metadata": {},
   "outputs": [],
   "source": []
  },
  {
   "cell_type": "code",
   "execution_count": 33,
   "metadata": {},
   "outputs": [],
   "source": [
    "#replay\n",
    "def replay():\n",
    "    choice=input(\"Want to Play again Y or N:\").upper()\n",
    "    return choice=='Y'"
   ]
  },
  {
   "cell_type": "code",
   "execution_count": 34,
   "metadata": {},
   "outputs": [
    {
     "name": "stdout",
     "output_type": "stream",
     "text": [
      "Want to Play again Y or N:\n"
     ]
    },
    {
     "data": {
      "text/plain": [
       "False"
      ]
     },
     "execution_count": 34,
     "metadata": {},
     "output_type": "execute_result"
    }
   ],
   "source": [
    "replay()"
   ]
  },
  {
   "cell_type": "code",
   "execution_count": null,
   "metadata": {},
   "outputs": [
    {
     "name": "stdout",
     "output_type": "stream",
     "text": [
      "||\n",
      "_____\n",
      "O|X|O\n",
      "_____\n",
      "||\n"
     ]
    }
   ],
   "source": [
    "#TIC TAC TOE\n",
    "print(\"Welocome To Tic Tac Toe\")\n",
    "while True:\n",
    "    #play the game\n",
    "    #board,whose first,choose marker x or o\n",
    "    ##player choice\n",
    "    board=['']*10\n",
    "    P1_marker,P2_marker=player_input()\n",
    "    turn=choose_first()\n",
    "    print(turn + 'will play first')\n",
    "    play_game=input('Ready to play game Y or N:').upper()\n",
    "    if play_game=='Y':\n",
    "        game_on=True\n",
    "    else:\n",
    "        game_on=False\n",
    "    while game_on:\n",
    "        if turn=='P1':\n",
    "            #displayboard\n",
    "            display_board(board)\n",
    "            ##place marker\n",
    "            position=player_choice(board)\n",
    "            place_marker(board,P1_marker,position)\n",
    "            ##win check\n",
    "            if win_check(board,P1_marker):\n",
    "                display_board(board)\n",
    "                print(\"P1 has won\")\n",
    "                game_on=False\n",
    "            \n",
    "            ##tie\n",
    "            elif full_board_check(board):\n",
    "                display_board(board)\n",
    "                print(\"TIE\")\n",
    "                game_on=False\n",
    "\n",
    "            ##no tie\n",
    "            else:\n",
    "                turn='P2'\n",
    "                \n",
    "                \n",
    "                \n",
    "                \n",
    "        else:\n",
    "            #Player2\n",
    "            display_board(board)\n",
    "            ##place marker\n",
    "            position=player_choice(board)\n",
    "            place_marker(board,P2_marker,position)\n",
    "            ##win check\n",
    "            if win_check(board,P2_marker):\n",
    "                display_board(board)\n",
    "                print(\"P2 has won\")\n",
    "                game_on=False\n",
    "            \n",
    "            ##tie\n",
    "            elif full_board_check(board):\n",
    "                display_board(board)\n",
    "                print(\"TIE\")\n",
    "                game_on=False\n",
    "            else:\n",
    "                turn='P1'\n",
    "            \n",
    "\n",
    "    \n",
    "    if not replay():\n",
    "        break\n",
    "        "
   ]
  },
  {
   "cell_type": "code",
   "execution_count": null,
   "metadata": {},
   "outputs": [],
   "source": []
  },
  {
   "cell_type": "code",
   "execution_count": null,
   "metadata": {},
   "outputs": [],
   "source": []
  }
 ],
 "metadata": {
  "kernelspec": {
   "display_name": "Python 3",
   "language": "python",
   "name": "python3"
  }
 },
 "nbformat": 4,
 "nbformat_minor": 4
}
